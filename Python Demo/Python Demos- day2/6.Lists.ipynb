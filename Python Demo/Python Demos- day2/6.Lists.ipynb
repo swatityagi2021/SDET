{
 "cells": [
  {
   "cell_type": "code",
   "execution_count": null,
   "metadata": {
    "collapsed": true
   },
   "outputs": [],
   "source": [
    "#Lists in python"
   ]
  },
  {
   "cell_type": "code",
   "execution_count": 3,
   "metadata": {},
   "outputs": [
    {
     "name": "stdout",
     "output_type": "stream",
     "text": [
      "[2, 'a', 4.5, False]\n"
     ]
    }
   ],
   "source": [
    "x = [2, 'a', 4.5, False]\n",
    "print(x)"
   ]
  },
  {
   "cell_type": "code",
   "execution_count": 4,
   "metadata": {},
   "outputs": [
    {
     "name": "stdout",
     "output_type": "stream",
     "text": [
      "<class 'list'>\n",
      "<class 'int'>\n",
      "<class 'str'>\n",
      "<class 'float'>\n",
      "<class 'bool'>\n"
     ]
    }
   ],
   "source": [
    "print(type(x))\n",
    "print(type(x[0]))\n",
    "print(type(x[1]))\n",
    "print(type(x[2]))\n",
    "print(type(x[3]))"
   ]
  },
  {
   "cell_type": "code",
   "execution_count": 5,
   "metadata": {},
   "outputs": [
    {
     "name": "stdout",
     "output_type": "stream",
     "text": [
      "[0, 1, 2, 3, 4, 5, 6, 7, 8, 9]\n",
      "[1, 2, 3, 4]\n",
      "[1, 3, 5, 7, 9]\n"
     ]
    }
   ],
   "source": [
    "print(list(range(10)))\n",
    "print(list(range(1,5)))\n",
    "print(list(range(1,10,2)))"
   ]
  },
  {
   "cell_type": "code",
   "execution_count": 1,
   "metadata": {
    "scrolled": true
   },
   "outputs": [
    {
     "name": "stdout",
     "output_type": "stream",
     "text": [
      "[3.44, 44.34, 23.23, 32.1, 35, 46, 69, 70]\n"
     ]
    }
   ],
   "source": [
    "myList = [3.44, 44.34, 23.23, 32.1, 35,46,69,70]\n",
    "print(myList)"
   ]
  },
  {
   "cell_type": "markdown",
   "metadata": {},
   "source": [
    "# List Slicing\n",
    "##myListlist[inclusive:exclusive]"
   ]
  },
  {
   "cell_type": "code",
   "execution_count": 15,
   "metadata": {},
   "outputs": [
    {
     "name": "stdout",
     "output_type": "stream",
     "text": [
      "3.44\n",
      "[23.23, 32.1, 35, 46, 69]\n",
      "[32.1, 35, 46, 69, 70]\n",
      "[3.44, 44.34, 23.23, 32.1, 35, 46]\n",
      "3.44\n",
      "[3.44, 44.34, 23.23]\n"
     ]
    }
   ],
   "source": [
    "print(myList[0])\n",
    "print(myList[2:7])\n",
    "print(myList[3:])\n",
    "print(myList[:6])\n",
    "print(myList[-8])\n",
    "print(myList[-8:-5])"
   ]
  },
  {
   "cell_type": "code",
   "execution_count": 2,
   "metadata": {},
   "outputs": [
    {
     "name": "stdout",
     "output_type": "stream",
     "text": [
      "Item found\n"
     ]
    }
   ],
   "source": [
    "#Linear search to search for an element in the list\n",
    "myList = [5,4,3,7,90,100]\n",
    "search = 90\n",
    "found = False\n",
    "for item in myList:\n",
    "    if item == search:\n",
    "        found = True\n",
    "        print(\"Item found\")\n",
    "        break\n",
    "if found == False:\n",
    "    print(\"Item not found\")"
   ]
  },
  {
   "cell_type": "code",
   "execution_count": 16,
   "metadata": {
    "scrolled": false
   },
   "outputs": [
    {
     "name": "stdout",
     "output_type": "stream",
     "text": [
      "True\n",
      "False\n"
     ]
    }
   ],
   "source": [
    "print(3.44 in myList)\n",
    "print(3.5 in myList)"
   ]
  },
  {
   "cell_type": "code",
   "execution_count": null,
   "metadata": {
    "collapsed": true
   },
   "outputs": [],
   "source": [
    "# in iteravtively checks if the element is present in MyList\n",
    "# Returns true if its present in the list else it returns faluse\n",
    "if search in myList:\n",
    "    print(\"item found\")\n",
    "else:\n",
    "    print(\"item not found\")"
   ]
  },
  {
   "cell_type": "code",
   "execution_count": null,
   "metadata": {
    "collapsed": true
   },
   "outputs": [],
   "source": [
    "# Write program to find the position of all the 90 in the below list\n",
    "myList = [5,4,3,7,90,100,90,30,40,90]\n"
   ]
  },
  {
   "cell_type": "code",
   "execution_count": null,
   "metadata": {
    "collapsed": true
   },
   "outputs": [],
   "source": [
    "# Write a program to find the frequency of occourance \n",
    "# of a search element"
   ]
  },
  {
   "cell_type": "code",
   "execution_count": null,
   "metadata": {
    "collapsed": true
   },
   "outputs": [],
   "source": [
    "#To create an empty list\n",
    "myList=list()\n",
    "print(myList)"
   ]
  },
  {
   "cell_type": "code",
   "execution_count": null,
   "metadata": {
    "collapsed": true
   },
   "outputs": [],
   "source": [
    "#To create an empty list\n",
    "myList=[]\n",
    "print(myList)"
   ]
  },
  {
   "cell_type": "code",
   "execution_count": 17,
   "metadata": {},
   "outputs": [
    {
     "data": {
      "text/plain": [
       "[10, 20, 30, 40]"
      ]
     },
     "execution_count": 17,
     "metadata": {},
     "output_type": "execute_result"
    }
   ],
   "source": [
    "myList=[]\n",
    "myList.append(10)\n",
    "myList.append(20)\n",
    "myList.append(30)\n",
    "myList.append(40)\n",
    "myList"
   ]
  },
  {
   "cell_type": "markdown",
   "metadata": {},
   "source": [
    "##### Extract the integer part out of each element in myList"
   ]
  },
  {
   "cell_type": "code",
   "execution_count": null,
   "metadata": {
    "collapsed": true
   },
   "outputs": [],
   "source": [
    "myList1 = [] \n",
    "myList1.append( int(myList[0]))\n",
    "myList1.append( int(myList[1]))\n",
    "myList1.append( int(myList[2]))\n",
    "myList1.append( int(myList[3]))\n",
    "print(myList1)"
   ]
  },
  {
   "cell_type": "code",
   "execution_count": null,
   "metadata": {
    "collapsed": true
   },
   "outputs": [],
   "source": [
    "#Using for loops\n",
    "for element in myList:\n",
    "    print(element)"
   ]
  },
  {
   "cell_type": "code",
   "execution_count": null,
   "metadata": {
    "collapsed": true,
    "scrolled": true
   },
   "outputs": [],
   "source": [
    "myList2 = []\n",
    "for each_element in myList:\n",
    "    myList2.append(int(each_element))\n",
    "print(myList2)"
   ]
  },
  {
   "cell_type": "code",
   "execution_count": null,
   "metadata": {
    "collapsed": true
   },
   "outputs": [],
   "source": [
    "myList3 = [int(each_element) for each_element in myList]\n",
    "print myList3"
   ]
  },
  {
   "cell_type": "code",
   "execution_count": null,
   "metadata": {
    "collapsed": true
   },
   "outputs": [],
   "source": [
    "#Slicing a list\n",
    "#list[inclusive:exclusive]\n",
    "\n",
    "print(a[1:3]) #Print the second and third elements\n",
    "print(a[3:] )\n",
    "print(a[:5])\n",
    "print(a[-1])"
   ]
  },
  {
   "cell_type": "code",
   "execution_count": 18,
   "metadata": {},
   "outputs": [
    {
     "name": "stdout",
     "output_type": "stream",
     "text": [
      "[1, 'hi', 2, 2.0, False, 2, '5', 7, 9, True]\n"
     ]
    }
   ],
   "source": [
    "#List operations\n",
    "#concatenate two lists\n",
    "a = [1,\"hi\",2,2.0,False]\n",
    "b = [2,\"5\",7,9,True]\n",
    "c = a+b\n",
    "print(c)"
   ]
  },
  {
   "cell_type": "code",
   "execution_count": 19,
   "metadata": {},
   "outputs": [
    {
     "name": "stdout",
     "output_type": "stream",
     "text": [
      "[1, 'hi', 2, 2.0, False, 1, 'hi', 2, 2.0, False, 1, 'hi', 2, 2.0, False]\n"
     ]
    }
   ],
   "source": [
    "#repeat the elements n times\n",
    "print(a*3)"
   ]
  },
  {
   "cell_type": "code",
   "execution_count": 24,
   "metadata": {},
   "outputs": [
    {
     "name": "stdout",
     "output_type": "stream",
     "text": [
      "[90, 75, 7, 6, 5, 4, 2, 1]\n",
      "[1, 2, 4, 5, 6, 7, 75, 90]\n"
     ]
    }
   ],
   "source": [
    "#Sorting list\n",
    "x = [7,6,4,5,90,75,2,1]\n",
    "x.sort(reverse = True)\n",
    "print(x)\n",
    "x.sort()\n",
    "print(x)"
   ]
  },
  {
   "cell_type": "code",
   "execution_count": null,
   "metadata": {
    "collapsed": true
   },
   "outputs": [],
   "source": [
    "x = [7,6,4,5,90,75,2,1]\n",
    "#add a new elements using append\n",
    "y=[\"Hello\",\"how\",\"are\",\"you\"]\n",
    "x.append(y) # y will be apended as a list towards the end\n",
    "print(x)\n",
    "len(x)"
   ]
  },
  {
   "cell_type": "code",
   "execution_count": null,
   "metadata": {
    "collapsed": true
   },
   "outputs": [],
   "source": [
    "myList.append(40)\n",
    "x = [7,6,4,5,90,75,2,1]\n",
    "#add a new elements using extend\n",
    "y=[\"Hello\",\"how\",\"are\",\"you\"]\n",
    "x.extend(y) #add the elements of the new list towards the end\n",
    "print(x)\n",
    "len(x)"
   ]
  },
  {
   "cell_type": "code",
   "execution_count": 47,
   "metadata": {},
   "outputs": [
    {
     "data": {
      "text/plain": [
       "['10', 20, 25, 30, 40]"
      ]
     },
     "execution_count": 47,
     "metadata": {},
     "output_type": "execute_result"
    }
   ],
   "source": [
    "myList=[]\n",
    "myList.extend(['10'])\n",
    "myList.extend([20,25])\n",
    "myList.append(30)\n",
    "myList.append(40)\n",
    "myList"
   ]
  },
  {
   "cell_type": "code",
   "execution_count": 52,
   "metadata": {},
   "outputs": [
    {
     "data": {
      "text/plain": [
       "['H', 'i', 'Hi']"
      ]
     },
     "execution_count": 52,
     "metadata": {},
     "output_type": "execute_result"
    }
   ],
   "source": [
    "myList=[]\n",
    "myList.extend('Hi')\n",
    "myList.append('Hi')\n",
    "myList"
   ]
  },
  {
   "cell_type": "code",
   "execution_count": null,
   "metadata": {
    "collapsed": true,
    "scrolled": true
   },
   "outputs": [],
   "source": [
    "x = [2, 3.1, 4]\n",
    "if x[0] == 2:\n",
    "    print('x[0] is 2')"
   ]
  },
  {
   "cell_type": "code",
   "execution_count": null,
   "metadata": {
    "collapsed": true
   },
   "outputs": [],
   "source": [
    "if x[1] < 2:\n",
    "    print 'less than 2'\n",
    "elif x[1] > 4:\n",
    "    print 'greater than 4'\n",
    "else:\n",
    "    print 'between 2 and 4'"
   ]
  },
  {
   "cell_type": "code",
   "execution_count": null,
   "metadata": {
    "collapsed": true
   },
   "outputs": [],
   "source": [
    "x = [10,20,30,40,50,60,70,80,90]\n",
    "print(x[3:])\n",
    "#x[inclusive:exclusive]"
   ]
  },
  {
   "cell_type": "code",
   "execution_count": 64,
   "metadata": {},
   "outputs": [
    {
     "name": "stdout",
     "output_type": "stream",
     "text": [
      "[10, 20, 30, 40, 20, 30, 40, 50]\n",
      "[10, 20, 30, 40, 10, 20, 30, 40]\n",
      "[10, 20, 30, 40, 20, 30, 40, 50]\n"
     ]
    }
   ],
   "source": [
    "A = [10,20,30,40]\n",
    "B = [20,30,40,50]\n",
    "print(A+B)\n",
    "print(A*2)\n",
    "A.extend(B) #Same as A =A +B\n",
    "print(A)"
   ]
  },
  {
   "cell_type": "code",
   "execution_count": null,
   "metadata": {
    "collapsed": true
   },
   "outputs": [],
   "source": [
    "A= \"Python\"\n",
    "count = 0\n",
    "for char in A:\n",
    "    count = count +1\n",
    "print(count)"
   ]
  },
  {
   "cell_type": "markdown",
   "metadata": {},
   "source": [
    "# List comprehension"
   ]
  },
  {
   "cell_type": "code",
   "execution_count": 1,
   "metadata": {},
   "outputs": [
    {
     "data": {
      "text/plain": [
       "['IND', 'AUS', 'USA', 'FRA']"
      ]
     },
     "execution_count": 1,
     "metadata": {},
     "output_type": "execute_result"
    }
   ],
   "source": [
    "#display the first three letters of each country in capital letters\n",
    "wordList = [\"India\",\"Australia\",\"USA\",\"France\"]\n",
    "first3Letters=[]\n",
    "for word in wordList:\n",
    "    first3Letters.append(word[:3].upper())\n",
    "first3Letters"
   ]
  },
  {
   "cell_type": "code",
   "execution_count": 3,
   "metadata": {},
   "outputs": [
    {
     "name": "stdout",
     "output_type": "stream",
     "text": [
      "['IND', 'AUS', 'USA', 'FRA']\n"
     ]
    }
   ],
   "source": [
    "#[action for var in list filter_condition]\n",
    "wordList = ['InDIA', 'aUSTRALIA', 'USA', 'frANCE']\n",
    "first3Letters = [ word[:3].upper() for word in wordList]\n",
    "print(first3Letters)"
   ]
  },
  {
   "cell_type": "code",
   "execution_count": 3,
   "metadata": {},
   "outputs": [
    {
     "name": "stdout",
     "output_type": "stream",
     "text": [
      "[33, 24, 39, 28, 45, 36, 40]\n"
     ]
    }
   ],
   "source": [
    "#Write a program to multiply every even number of the list\n",
    "# by 2 and odd number by 3\n",
    "lst = [11,12,13,14,15,18,20]\n",
    "lst1 = []\n",
    "for num in lst:\n",
    "    if num %2==0:\n",
    "        lst1.append(num*2)\n",
    "    else:\n",
    "        lst1.append(num*3)\n",
    "print(lst1)"
   ]
  },
  {
   "cell_type": "code",
   "execution_count": 26,
   "metadata": {},
   "outputs": [
    {
     "name": "stdout",
     "output_type": "stream",
     "text": [
      "[33, 24, 39, 28, 45, 36, 40]\n"
     ]
    }
   ],
   "source": [
    "#[action for elemenet in list]\n",
    "# action : num * 2  if num % 2 == 0 else  num * 3\n",
    "# Action is some operation which is mapped or applied on every element\n",
    "# for loop : for num in lst\n",
    "lst1=[num * 2  if num % 2 == 0 else  num * 3 for num in lst]\n",
    "print(lst1)"
   ]
  },
  {
   "cell_type": "code",
   "execution_count": 4,
   "metadata": {},
   "outputs": [
    {
     "name": "stdout",
     "output_type": "stream",
     "text": [
      "[24, 28, 36, 40]\n"
     ]
    }
   ],
   "source": [
    "#Write a program to multiply every even number of the list by 2\n",
    "lst = [11,12,13,14,15,18,20]\n",
    "lst1 = []\n",
    "for num in lst:\n",
    "    if num %2==0:\n",
    "        lst1.append(num*2)\n",
    "print(lst1)"
   ]
  },
  {
   "cell_type": "code",
   "execution_count": null,
   "metadata": {
    "collapsed": true
   },
   "outputs": [],
   "source": [
    "#apply or action or map : num*2\n",
    "# filter : only even elements num % 2 ==0\n",
    "# [action for number in list filter condition]"
   ]
  },
  {
   "cell_type": "code",
   "execution_count": 5,
   "metadata": {},
   "outputs": [
    {
     "name": "stdout",
     "output_type": "stream",
     "text": [
      "[24, 28, 36, 40]\n"
     ]
    }
   ],
   "source": [
    "lst1 = [num*2  for num in lst if num % 2 == 0]\n",
    "print(lst1)"
   ]
  },
  {
   "cell_type": "code",
   "execution_count": 6,
   "metadata": {},
   "outputs": [
    {
     "ename": "TypeError",
     "evalue": "can only concatenate list (not \"int\") to list",
     "output_type": "error",
     "traceback": [
      "\u001b[1;31m---------------------------------------------------------------------------\u001b[0m",
      "\u001b[1;31mTypeError\u001b[0m                                 Traceback (most recent call last)",
      "\u001b[1;32m<ipython-input-6-2a6f27e6e598>\u001b[0m in \u001b[0;36m<module>\u001b[1;34m\u001b[0m\n\u001b[1;32m----> 1\u001b[1;33m \u001b[0mlst1\u001b[0m\u001b[1;33m+\u001b[0m\u001b[1;36m5\u001b[0m\u001b[1;33m\u001b[0m\u001b[1;33m\u001b[0m\u001b[0m\n\u001b[0m",
      "\u001b[1;31mTypeError\u001b[0m: can only concatenate list (not \"int\") to list"
     ]
    }
   ],
   "source": [
    "lst1+5"
   ]
  },
  {
   "cell_type": "code",
   "execution_count": null,
   "metadata": {
    "collapsed": true
   },
   "outputs": [],
   "source": [
    "# [ action/map/apply for item in list filter_condition]\n",
    "x = [3, 2, 4, 8]\n",
    "[elem * 2  if elem % 2 == 0 else  elem * 3 for elem in x]"
   ]
  },
  {
   "cell_type": "code",
   "execution_count": null,
   "metadata": {
    "collapsed": true
   },
   "outputs": [],
   "source": [
    "x = [3, 2, 4, 8]\n",
    "[elem*2  for elem in x if elem % 2 == 0]"
   ]
  },
  {
   "cell_type": "code",
   "execution_count": 9,
   "metadata": {},
   "outputs": [
    {
     "data": {
      "text/plain": [
       "[20, 10]"
      ]
     },
     "execution_count": 9,
     "metadata": {},
     "output_type": "execute_result"
    }
   ],
   "source": [
    "# Excercise: Display all the elements of a list which is a multiple of 2 and 5\n",
    "x = [2, 25, 20, 10]\n",
    "[elem for elem in x if elem % 2 == 0 and elem % 5 ==0]"
   ]
  },
  {
   "cell_type": "code",
   "execution_count": null,
   "metadata": {
    "collapsed": true
   },
   "outputs": [],
   "source": [
    "x = [2, 3, 5, 16]\n",
    "[elem**3 for elem in x if elem % 2 == 0]"
   ]
  },
  {
   "cell_type": "markdown",
   "metadata": {},
   "source": [
    "# list comprehension assignment"
   ]
  },
  {
   "cell_type": "code",
   "execution_count": null,
   "metadata": {
    "collapsed": true
   },
   "outputs": [],
   "source": [
    "num = [5,4,7,9,12,15,22,75,100,107]"
   ]
  },
  {
   "cell_type": "code",
   "execution_count": null,
   "metadata": {
    "collapsed": true
   },
   "outputs": [],
   "source": [
    "# 1. Form a list by dividing every element by 2"
   ]
  },
  {
   "cell_type": "code",
   "execution_count": null,
   "metadata": {
    "collapsed": true
   },
   "outputs": [],
   "source": [
    "# 2. Form a list for all elements divisible by 5 "
   ]
  },
  {
   "cell_type": "code",
   "execution_count": null,
   "metadata": {
    "collapsed": true
   },
   "outputs": [],
   "source": [
    "#3. Form a  a list of all elements such that dividing even \n",
    "# numbers by 2 and odd numbers by 3"
   ]
  },
  {
   "cell_type": "code",
   "execution_count": null,
   "metadata": {
    "collapsed": true
   },
   "outputs": [],
   "source": [
    "#4. For a list of all even numbers by multiplying by itself"
   ]
  },
  {
   "cell_type": "code",
   "execution_count": null,
   "metadata": {
    "collapsed": true
   },
   "outputs": [],
   "source": [
    "#5. For all 3 digit number divide the numebr by 2"
   ]
  },
  {
   "cell_type": "code",
   "execution_count": null,
   "metadata": {
    "collapsed": true
   },
   "outputs": [],
   "source": []
  },
  {
   "cell_type": "code",
   "execution_count": null,
   "metadata": {
    "collapsed": true
   },
   "outputs": [],
   "source": []
  },
  {
   "cell_type": "code",
   "execution_count": null,
   "metadata": {
    "collapsed": true
   },
   "outputs": [],
   "source": []
  },
  {
   "cell_type": "code",
   "execution_count": null,
   "metadata": {
    "collapsed": true
   },
   "outputs": [],
   "source": []
  },
  {
   "cell_type": "code",
   "execution_count": null,
   "metadata": {
    "collapsed": true
   },
   "outputs": [],
   "source": []
  },
  {
   "cell_type": "markdown",
   "metadata": {
    "collapsed": true
   },
   "source": [
    "# This is an assignment soluion"
   ]
  },
  {
   "cell_type": "code",
   "execution_count": null,
   "metadata": {
    "collapsed": true
   },
   "outputs": [],
   "source": [
    "# 1. Form a list by dividing every element by 2\n",
    "print([ elem/2 for elem in num])"
   ]
  },
  {
   "cell_type": "code",
   "execution_count": null,
   "metadata": {
    "collapsed": true
   },
   "outputs": [],
   "source": [
    "# 2. Form a list for all elements divisible by 5 \n",
    "print([ elem for elem in num if elem % 5 ==0])"
   ]
  },
  {
   "cell_type": "code",
   "execution_count": null,
   "metadata": {
    "collapsed": true
   },
   "outputs": [],
   "source": [
    "#3. Form a  a list of all elements such that \n",
    "# dividing even numbers by 2 and odd numbers by 3\n",
    "print([elem/2 if elem%2==0 else elem/3 for elem in num])"
   ]
  },
  {
   "cell_type": "code",
   "execution_count": null,
   "metadata": {
    "collapsed": true
   },
   "outputs": [],
   "source": [
    "#4. For a list of all even numbers by multiplying by itself\n",
    "print([elem*elem for elem in num if elem%2 ==0])"
   ]
  },
  {
   "cell_type": "code",
   "execution_count": null,
   "metadata": {
    "collapsed": true
   },
   "outputs": [],
   "source": [
    "#5. For all 3 digit number divide the numebr by 2\n",
    "print([elem/2 for elem in num if len(str(elem)) == 3])"
   ]
  },
  {
   "cell_type": "code",
   "execution_count": null,
   "metadata": {
    "collapsed": true
   },
   "outputs": [],
   "source": []
  },
  {
   "cell_type": "code",
   "execution_count": null,
   "metadata": {
    "collapsed": true
   },
   "outputs": [],
   "source": []
  },
  {
   "cell_type": "code",
   "execution_count": null,
   "metadata": {
    "collapsed": true
   },
   "outputs": [],
   "source": [
    "#deleting elements from a list by specifying their index\n",
    "t = ['a', 'b', 'c','d','e','f']\n",
    "t.pop(2) #specify the index of the element to be removed\n",
    "print(t)\n",
    "#try what happens pop()"
   ]
  },
  {
   "cell_type": "code",
   "execution_count": null,
   "metadata": {
    "collapsed": true
   },
   "outputs": [],
   "source": [
    "#deleting elements from a list by specifying their index\n",
    "t = ['a', 'b', 'c','d','e','f']\n",
    "del t[1] #specify the index of the element to be removed\n",
    "#you can also perform del t[1:5]\n",
    "print(t)"
   ]
  },
  {
   "cell_type": "code",
   "execution_count": null,
   "metadata": {
    "collapsed": true
   },
   "outputs": [],
   "source": [
    "#deleting elements from a list by specifying the value\n",
    "t = ['a', 'b', 'c','d','e','f']\n",
    "t.remove('d')\n",
    "print(t)"
   ]
  },
  {
   "cell_type": "code",
   "execution_count": null,
   "metadata": {
    "collapsed": true
   },
   "outputs": [],
   "source": [
    "# lists are mutable\n",
    "t = ['a', 'b', 'c','d','e','f']\n",
    "t[1] = 55\n",
    "print(t)"
   ]
  },
  {
   "cell_type": "code",
   "execution_count": 53,
   "metadata": {},
   "outputs": [
    {
     "data": {
      "text/plain": [
       "[10, 20, 30, 40, 50]"
      ]
     },
     "execution_count": 53,
     "metadata": {},
     "output_type": "execute_result"
    }
   ],
   "source": [
    "age = [10,20,30,40,50]\n",
    "new_age = age\n",
    "new_age"
   ]
  },
  {
   "cell_type": "code",
   "execution_count": 54,
   "metadata": {},
   "outputs": [
    {
     "data": {
      "text/plain": [
       "[10, 45, 30, 40, 50]"
      ]
     },
     "execution_count": 54,
     "metadata": {},
     "output_type": "execute_result"
    }
   ],
   "source": [
    "age[1] = 45\n",
    "age"
   ]
  },
  {
   "cell_type": "code",
   "execution_count": 55,
   "metadata": {},
   "outputs": [
    {
     "data": {
      "text/plain": [
       "[10, 45, 30, 40, 50]"
      ]
     },
     "execution_count": 55,
     "metadata": {},
     "output_type": "execute_result"
    }
   ],
   "source": [
    "new_age"
   ]
  },
  {
   "cell_type": "code",
   "execution_count": 56,
   "metadata": {},
   "outputs": [
    {
     "name": "stdout",
     "output_type": "stream",
     "text": [
      "4568189000\n",
      "4568189000\n"
     ]
    }
   ],
   "source": [
    "print(id(age))\n",
    "print(id(new_age))\n",
    "#Both age and new age refer to the same memory location"
   ]
  },
  {
   "cell_type": "code",
   "execution_count": null,
   "metadata": {
    "collapsed": true
   },
   "outputs": [],
   "source": [
    "del age\n",
    "print(new_age)"
   ]
  },
  {
   "cell_type": "code",
   "execution_count": null,
   "metadata": {
    "collapsed": true
   },
   "outputs": [],
   "source": [
    "age = [10,20,30,40,50]\n",
    "new_age=age.copy()"
   ]
  },
  {
   "cell_type": "code",
   "execution_count": null,
   "metadata": {
    "collapsed": true
   },
   "outputs": [],
   "source": [
    "print(id(age))\n",
    "print(id(new_age))"
   ]
  },
  {
   "cell_type": "code",
   "execution_count": null,
   "metadata": {
    "collapsed": true
   },
   "outputs": [],
   "source": [
    "age[4] = 90\n",
    "print(age)\n",
    "print(new_age)"
   ]
  }
 ],
 "metadata": {
  "kernelspec": {
   "display_name": "Python 3",
   "language": "python",
   "name": "python3"
  },
  "language_info": {
   "codemirror_mode": {
    "name": "ipython",
    "version": 3
   },
   "file_extension": ".py",
   "mimetype": "text/x-python",
   "name": "python",
   "nbconvert_exporter": "python",
   "pygments_lexer": "ipython3",
   "version": "3.8.3"
  }
 },
 "nbformat": 4,
 "nbformat_minor": 2
}
