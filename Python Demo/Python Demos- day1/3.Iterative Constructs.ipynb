{
 "cells": [
  {
   "cell_type": "code",
   "execution_count": 1,
   "metadata": {},
   "outputs": [
    {
     "name": "stdout",
     "output_type": "stream",
     "text": [
      "Enter Marks1 :78\n",
      "Enter Marks2 : 90\n",
      "Enter Marks3 : 80\n",
      "82.66666666666667\n"
     ]
    }
   ],
   "source": [
    "#Sequential construct\n",
    "marks1 = int(input(\"Enter Marks1 :\"))\n",
    "marks2 = int(input(\"Enter Marks2 : \"))\n",
    "marks3 = int(input(\"Enter Marks3 : \"))\n",
    "total = marks1 + marks2 + marks3\n",
    "average = total/3\n",
    "print(average)"
   ]
  },
  {
   "cell_type": "code",
   "execution_count": 2,
   "metadata": {},
   "outputs": [
    {
     "name": "stdout",
     "output_type": "stream",
     "text": [
      "Enter Marks1 :90\n",
      "Enter Marks2 : 67\n",
      "Enter Marks3 : 80\n",
      "Qualified\n"
     ]
    }
   ],
   "source": [
    "#Conditional construct\n",
    "marks1 = int(input(\"Enter Marks1 :\"))\n",
    "marks2 = int(input(\"Enter Marks2 : \"))\n",
    "marks3 = int(input(\"Enter Marks3 : \"))\n",
    "total = marks1 + marks2 + marks3\n",
    "average = total/3\n",
    "if average >= 75:\n",
    "    print(\"Qualified\")\n",
    "else:\n",
    "    print(\"Not Qualified\")"
   ]
  },
  {
   "cell_type": "code",
   "execution_count": null,
   "metadata": {
    "collapsed": true
   },
   "outputs": [],
   "source": [
    "#Iterative construct\n",
    "noOfStudents = int(input(\"Enter the Number of Students : \"))\n",
    "counter = 1\n",
    "while counter <= noOfStudents:\n",
    "    \n",
    "    marks1 = int(input(\"Enter Marks1 :\"))\n",
    "    marks2 = int(input(\"Enter Marks2 : \"))\n",
    "    marks3 = int(input(\"Enter Marks3 : \"))\n",
    "    total = marks1 + marks2 + marks3\n",
    "    average = total/3\n",
    "    if average >= 75:\n",
    "        print(\"Student Qualified\")\n",
    "    else:\n",
    "        print(\"Student Not Qualified\")\n",
    "    counter = counter + 1"
   ]
  },
  {
   "cell_type": "code",
   "execution_count": null,
   "metadata": {
    "collapsed": true
   },
   "outputs": [],
   "source": [
    "#Iterative construct using For Loop\n",
    "noOfStudents = int(input(\"Enter the Number of Students : \"))\n",
    "#counter = 1\n",
    "for counter in range(1,noOfStudents+1):\n",
    "# for counter in [1,2,3... noOfStudents]\n",
    "    marks1 = int(input(\"Enter Marks1 :\"))\n",
    "    marks2 = int(input(\"Enter Marks2 : \"))\n",
    "    marks3 = int(input(\"Enter Marks3 : \"))\n",
    "    total = marks1 + marks2 + marks3\n",
    "    average = total/3\n",
    "    if average >= 75:\n",
    "        print(\"Student Qualified\")\n",
    "    else:\n",
    "        print(\"Student Not Qualified\")"
   ]
  },
  {
   "cell_type": "code",
   "execution_count": 3,
   "metadata": {},
   "outputs": [
    {
     "name": "stdout",
     "output_type": "stream",
     "text": [
      "0\n",
      "1\n",
      "2\n",
      "3\n",
      "4\n"
     ]
    }
   ],
   "source": [
    "for i in range(5):\n",
    "    print(i)"
   ]
  },
  {
   "cell_type": "code",
   "execution_count": 4,
   "metadata": {},
   "outputs": [
    {
     "name": "stdout",
     "output_type": "stream",
     "text": [
      "1\n",
      "2\n",
      "3\n",
      "4\n"
     ]
    }
   ],
   "source": [
    "for i in range(1,5):\n",
    "    print(i)"
   ]
  },
  {
   "cell_type": "code",
   "execution_count": 5,
   "metadata": {},
   "outputs": [
    {
     "name": "stdout",
     "output_type": "stream",
     "text": [
      "1\n",
      "3\n",
      "5\n",
      "7\n",
      "9\n"
     ]
    }
   ],
   "source": [
    "for i in range(1,10,2):\n",
    "    print(i)"
   ]
  },
  {
   "cell_type": "code",
   "execution_count": 6,
   "metadata": {},
   "outputs": [
    {
     "name": "stdout",
     "output_type": "stream",
     "text": [
      "10\n",
      "7\n",
      "4\n"
     ]
    }
   ],
   "source": [
    "for i in range(10,2,-3):\n",
    "    print(i)"
   ]
  },
  {
   "cell_type": "code",
   "execution_count": 7,
   "metadata": {},
   "outputs": [
    {
     "name": "stdout",
     "output_type": "stream",
     "text": [
      "5\n"
     ]
    }
   ],
   "source": [
    "x = [10,20,30,40,50]\n",
    "#Write a program to count the number of elements in the given list\n",
    "count = 0\n",
    "for i in x:\n",
    "    count = count + 1\n",
    "print(count)"
   ]
  },
  {
   "cell_type": "code",
   "execution_count": 8,
   "metadata": {},
   "outputs": [
    {
     "name": "stdout",
     "output_type": "stream",
     "text": [
      "Enter the Number of Students : 3\n",
      "Enter Marks : 78\n",
      "Enter Marks : 34\n",
      "Enter Marks : 80\n",
      "Student Not Qualified\n",
      "Enter Marks : 90\n",
      "Enter Marks : 45\n",
      "Enter Marks : 78\n",
      "Student Not Qualified\n",
      "Enter Marks : 90\n",
      "Enter Marks : 80\n",
      "Enter Marks : 87\n",
      "Student Qualified\n"
     ]
    }
   ],
   "source": [
    "###### Iterative construct using For Loop, Marks stored in a list\n",
    "noOfStudents = int(input(\"Enter the Number of Students : \"))\n",
    "#counter = 1\n",
    "for counter in range(1,noOfStudents+1):\n",
    "    marksList = []\n",
    "    for i in range(0,3):\n",
    "        marks = int(input(\"Enter Marks : \"))\n",
    "        marksList.append(marks)\n",
    "    total = 0\n",
    "   # for i in range(0,3):\n",
    "    #    total = total+marksList[i]\n",
    "    for m in marksList:\n",
    "        total = total + m\n",
    "    average = total/3\n",
    "    if average >= 75:\n",
    "        print(\"Student Qualified\")\n",
    "    else:\n",
    "        print(\"Student Not Qualified\")"
   ]
  },
  {
   "cell_type": "code",
   "execution_count": 9,
   "metadata": {
    "scrolled": true
   },
   "outputs": [
    {
     "name": "stdout",
     "output_type": "stream",
     "text": [
      "5\n",
      "4\n",
      "3\n",
      "2\n",
      "1\n",
      "outside while!\n"
     ]
    }
   ],
   "source": [
    "#While Loop\n",
    "n = 5\n",
    "while n > 0:\n",
    "    print(n)\n",
    "    n = n-1\n",
    "print('outside while!')"
   ]
  },
  {
   "cell_type": "code",
   "execution_count": 10,
   "metadata": {},
   "outputs": [
    {
     "name": "stdout",
     "output_type": "stream",
     "text": [
      "10\n",
      "8\n",
      "6\n",
      "4\n",
      "2\n",
      "Done!\n"
     ]
    }
   ],
   "source": [
    "#Exiting a loop with break\n",
    "n = 10\n",
    "while True:\n",
    "    print(n)\n",
    "    n = n - 2\n",
    "    if n == 0:\n",
    "        break\n",
    "print('Done!')"
   ]
  },
  {
   "cell_type": "code",
   "execution_count": 11,
   "metadata": {},
   "outputs": [
    {
     "name": "stdout",
     "output_type": "stream",
     "text": [
      "Enter the input: iuio\n",
      "iuio\n",
      "Enter the input: 90809\n",
      "90809\n",
      "Enter the input: done\n",
      "Done!\n"
     ]
    }
   ],
   "source": [
    "while True:\n",
    "    line = input('Enter the input: ')\n",
    "    if line == '#':\n",
    "        continue\n",
    "    if line == 'done':\n",
    "        break\n",
    "    print(line)\n",
    "print('Done!')"
   ]
  },
  {
   "cell_type": "code",
   "execution_count": null,
   "metadata": {
    "collapsed": true
   },
   "outputs": [],
   "source": [
    "#Write a python program to check if a number is prime or not\n",
    "number = int(input(\"enter a number\"))\n",
    "count = 2\n",
    "isPrime = 1 #The number is assumed to be prime\n",
    "while count <= number//2:\n",
    "    if number % count == 0:\n",
    "        isPrime = 0 #the number is not prime\n",
    "        break\n",
    "    else:\n",
    "        count = count +1\n",
    "if isPrime == 1:\n",
    "    print(\"The number is prime\")\n",
    "else:\n",
    "    print(\"the number is not prime\")"
   ]
  },
  {
   "cell_type": "code",
   "execution_count": null,
   "metadata": {
    "collapsed": true
   },
   "outputs": [],
   "source": [
    "# Given a number Find the next 5 prime numbers\n",
    "#Write a python program to check if a number is prime or not\n",
    "number = int(input(\"enter a number\"))\n",
    "numPrime = 1\n",
    "while numPrime <= 5:\n",
    "    number = number+1\n",
    "    count = 2\n",
    "    isPrime = 1 #The number is assumed to be prime\n",
    "    while count <= number//2:\n",
    "        if number % count == 0:\n",
    "            isPrime = 0 #the number is not prime\n",
    "            break\n",
    "        else:\n",
    "            count = count +1\n",
    "    if isPrime == 1:\n",
    "        print(number)\n",
    "        numPrime = numPrime + 1"
   ]
  },
  {
   "cell_type": "code",
   "execution_count": 12,
   "metadata": {},
   "outputs": [
    {
     "name": "stdout",
     "output_type": "stream",
     "text": [
      "enter a start number7\n",
      "enter a end number9\n",
      "7\n"
     ]
    }
   ],
   "source": [
    "# For a range of input numbers from start to end print the prime numbers\n",
    "start = int(input(\"enter a start number\"))\n",
    "end = int(input(\"enter a end number\"))\n",
    "while start <= end:\n",
    "    number = start\n",
    "    count = 2\n",
    "    isPrime = 1 #The number is assumed to be prime\n",
    "    while count <= number//2:\n",
    "        if number % count == 0:\n",
    "            isPrime = 0 #the number is not prime\n",
    "            break\n",
    "        else:\n",
    "            count = count +1\n",
    "    if isPrime == 1:\n",
    "        print(number)\n",
    "    start = start + 1"
   ]
  },
  {
   "cell_type": "code",
   "execution_count": 16,
   "metadata": {},
   "outputs": [
    {
     "name": "stdout",
     "output_type": "stream",
     "text": [
      "15\n"
     ]
    }
   ],
   "source": [
    "numList = [10,100,300,40,50,60,60,60,60,65,65,75,55,54,67]\n",
    "count   = 0\n",
    "for i in numList:\n",
    "    count = count + 1\n",
    "print(count)"
   ]
  },
  {
   "cell_type": "code",
   "execution_count": null,
   "metadata": {
    "collapsed": true
   },
   "outputs": [],
   "source": [
    "numList = [10,100,300,40,50,60,60,60,60,65,65,75,55,54,67]\n",
    "Sum = 0\n",
    "i = 0\n",
    "while i <count:\n",
    "    Sum = Sum + numList[i]\n",
    "    i = i + 1\n",
    "Mean = Sum/15\n",
    "print(Mean)"
   ]
  },
  {
   "cell_type": "code",
   "execution_count": null,
   "metadata": {
    "collapsed": true
   },
   "outputs": [],
   "source": [
    "numerator = 0\n",
    "i=0\n",
    "while i <15:\n",
    "    numerator = numerator + (numList[i]-Mean)**2\n",
    "    i = i + 1\n",
    "variance = numerator/count\n",
    "variance"
   ]
  },
  {
   "cell_type": "code",
   "execution_count": null,
   "metadata": {
    "collapsed": true
   },
   "outputs": [],
   "source": [
    "standardDeveation = (variance)**0.5\n",
    "standardDeveation"
   ]
  },
  {
   "cell_type": "code",
   "execution_count": null,
   "metadata": {
    "collapsed": true,
    "scrolled": true
   },
   "outputs": [],
   "source": [
    "#For loops\n",
    "#To count the number of times a for loop executes\n",
    "count = 0\n",
    "for itervar in [3, 41, 12, 9, 74, 15]:\n",
    "    count = count + 1\n",
    "    print('Count: ', count)"
   ]
  },
  {
   "cell_type": "code",
   "execution_count": null,
   "metadata": {
    "collapsed": true
   },
   "outputs": [],
   "source": [
    "#Find the sum of elements of a given elements\n",
    "total = 0\n",
    "for itervar in [3, 41, 12, 9, 74, 15]:\n",
    "    total = total + itervar\n",
    "print('Total: ', total)"
   ]
  },
  {
   "cell_type": "code",
   "execution_count": null,
   "metadata": {
    "collapsed": true
   },
   "outputs": [],
   "source": [
    "lst = ['Joseph', 'Glenn', 'Sally']\n",
    "for value in lst:\n",
    "    print(\"Hello: \", value)\n",
    "print(\"done\")"
   ]
  },
  {
   "cell_type": "code",
   "execution_count": null,
   "metadata": {
    "collapsed": true
   },
   "outputs": [],
   "source": [
    "#Predict the output:\n",
    "largest=-99999\n",
    "for itervar in [3, 41, 12, 9, 74, 15,-5,0,-7]:\n",
    "        if itervar > largest :\n",
    "            largest = itervar\n",
    "print('Largest:', largest)"
   ]
  },
  {
   "cell_type": "code",
   "execution_count": 3,
   "metadata": {},
   "outputs": [
    {
     "name": "stdout",
     "output_type": "stream",
     "text": [
      "Largest: 74\n"
     ]
    }
   ],
   "source": [
    "largest=-99999\n",
    "length = 0\n",
    "i = 0\n",
    "myList = [3, 41, 12, 9, 74, 15,-5,0,-7]\n",
    "#To Find out the length of the list\n",
    "for itervar in myList:\n",
    "    length = length + 1\n",
    "#Start a fresh loop to find the largest of all the elements\n",
    "while i < length:\n",
    "    if myList[i] > largest:\n",
    "        largest = myList[i]\n",
    "    i = i+1\n",
    "print('Largest:', largest)"
   ]
  },
  {
   "cell_type": "code",
   "execution_count": null,
   "metadata": {
    "collapsed": true
   },
   "outputs": [],
   "source": [
    "# Q)Write a program which repeatedly reads numbers until the user enters \"done\". \n",
    "#Once \"done\" is entered, print out the total, count, and average of the numbers. If the user enters anything other than a number, detect their mistake using try and except and \n",
    "# print an error message and skip to the next number.\n",
    "'''\n",
    "Enter a number: 4\n",
    "Enter a number: 5\n",
    "Enter a number: bad data\n",
    "Invalid input\n",
    "Enter a number: 7\n",
    "Enter a number: done\n",
    "16 3 5.333333333333333\n",
    "'''"
   ]
  },
  {
   "cell_type": "code",
   "execution_count": null,
   "metadata": {
    "collapsed": true
   },
   "outputs": [],
   "source": [
    "# Q)Write a program which repeatedly reads numbers until the user enters \"done\". \n",
    "#Once \"done\" is entered, print out the total, count, and average of the numbers. If the user enters anything other than a number, detect their mistake using try and except and \n",
    "# print an error message and skip to the next number.\n",
    "'''\n",
    "Enter a number: 4\n",
    "Enter a number: 5\n",
    "Enter a number: bad data\n",
    "Invalid input\n",
    "Enter a number: 7\n",
    "Enter a number: done\n",
    "16 3 5.333333333333333\n",
    "'''"
   ]
  }
 ],
 "metadata": {
  "kernelspec": {
   "display_name": "Python 3",
   "language": "python",
   "name": "python3"
  },
  "language_info": {
   "codemirror_mode": {
    "name": "ipython",
    "version": 3
   },
   "file_extension": ".py",
   "mimetype": "text/x-python",
   "name": "python",
   "nbconvert_exporter": "python",
   "pygments_lexer": "ipython3",
   "version": "3.8.3"
  }
 },
 "nbformat": 4,
 "nbformat_minor": 2
}
