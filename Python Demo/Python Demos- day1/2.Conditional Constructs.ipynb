{
 "cells": [
  {
   "cell_type": "code",
   "execution_count": 1,
   "metadata": {},
   "outputs": [
    {
     "name": "stdout",
     "output_type": "stream",
     "text": [
      "True\n",
      "False\n",
      "<class 'bool'>\n",
      "<class 'bool'>\n"
     ]
    }
   ],
   "source": [
    "# Conditional Execution\n",
    "print(5 == 5)\n",
    "print(5 == 6)\n",
    "print(type(True))\n",
    "print(type(False))"
   ]
  },
  {
   "cell_type": "code",
   "execution_count": 3,
   "metadata": {},
   "outputs": [
    {
     "name": "stdout",
     "output_type": "stream",
     "text": [
      "x is positive\n"
     ]
    }
   ],
   "source": [
    "#blocks are marked by indentation in python. ':' is a must\n",
    "x=25\n",
    "if x > 0 :\n",
    "    print('x is positive')"
   ]
  },
  {
   "cell_type": "code",
   "execution_count": 4,
   "metadata": {},
   "outputs": [
    {
     "name": "stdout",
     "output_type": "stream",
     "text": [
      "x is even\n"
     ]
    }
   ],
   "source": [
    "# To Check if a number is even or ODD\n",
    "x=32\n",
    "if x%2 == 0 :\n",
    "    print('x is even')\n",
    "else :\n",
    "    print('x is odd')"
   ]
  },
  {
   "cell_type": "code",
   "execution_count": 5,
   "metadata": {},
   "outputs": [
    {
     "name": "stdout",
     "output_type": "stream",
     "text": [
      "Enter a number 23\n",
      "23 is odd\n"
     ]
    }
   ],
   "source": [
    "# Taking input from user\n",
    "x=int(input(\"Enter a number \"))\n",
    "if x%2 == 0:\n",
    "    print(str(x) + ' is even')\n",
    "else:\n",
    "    print(str(x) + ' is odd')"
   ]
  },
  {
   "cell_type": "code",
   "execution_count": 8,
   "metadata": {},
   "outputs": [
    {
     "name": "stdout",
     "output_type": "stream",
     "text": [
      "x is less than y\n"
     ]
    }
   ],
   "source": [
    "#Chained conditionas\n",
    "x = 5\n",
    "y = 15\n",
    "if x < y:\n",
    "    print('x is less than y')\n",
    "elif x > y:\n",
    "    print('x is greater than y')\n",
    "else:\n",
    "    print('x and y are equal')"
   ]
  },
  {
   "cell_type": "code",
   "execution_count": 9,
   "metadata": {},
   "outputs": [
    {
     "name": "stdout",
     "output_type": "stream",
     "text": [
      "x is a positive single-digit number.\n"
     ]
    }
   ],
   "source": [
    "#nested if\n",
    "x=5\n",
    "if 0 < x:\n",
    "    if x < 10:\n",
    "        print('x is a positive single-digit number.')"
   ]
  },
  {
   "cell_type": "code",
   "execution_count": 10,
   "metadata": {},
   "outputs": [
    {
     "name": "stdout",
     "output_type": "stream",
     "text": [
      "x is a positive single-digit number.\n"
     ]
    }
   ],
   "source": [
    "# using And operator\n",
    "if 0 < x and x < 10:\n",
    "    print('x is a positive single-digit number.')"
   ]
  },
  {
   "cell_type": "code",
   "execution_count": 13,
   "metadata": {},
   "outputs": [
    {
     "name": "stdout",
     "output_type": "stream",
     "text": [
      "False\n"
     ]
    }
   ],
   "source": [
    "#Short circuit evaluations in python\n",
    "x=1\n",
    "y=0\n",
    "print(x>=2 and (x/y >2)) #change x>= to <= and see the change in o/p"
   ]
  },
  {
   "cell_type": "code",
   "execution_count": 16,
   "metadata": {},
   "outputs": [
    {
     "name": "stdout",
     "output_type": "stream",
     "text": [
      "enter the age78\n",
      "adult\n",
      "enter the ageno\n",
      "enter the ageNo\n"
     ]
    }
   ],
   "source": [
    "entry=input('enter the age')\n",
    "while(entry!='No'):\n",
    "    try:\n",
    "        age=int(entry)\n",
    "    except Exception:\n",
    "        entry=input('enter the age')\n",
    "        continue\n",
    "    if(age<=5):\n",
    "        print('toddler')\n",
    "    elif(age<=12):\n",
    "        print('child')\n",
    "    elif(age<=19):\n",
    "        print('teenager')\n",
    "    else:\n",
    "        print('adult')\n",
    "    entry=input('enter the age')\n"
   ]
  },
  {
   "cell_type": "code",
   "execution_count": 17,
   "metadata": {},
   "outputs": [
    {
     "name": "stdout",
     "output_type": "stream",
     "text": [
      "Enter Fahrenheit Temperature: 39\n",
      "3.888888888888889\n"
     ]
    }
   ],
   "source": [
    "# Q Write a program to convert Farenheit to celcius:\n",
    "inp = input('Enter Fahrenheit Temperature: ')\n",
    "fahr = float(inp)\n",
    "cel = (fahr - 32.0) * 5.0 / 9.0\n",
    "print(cel)"
   ]
  },
  {
   "cell_type": "code",
   "execution_count": 7,
   "metadata": {},
   "outputs": [
    {
     "name": "stdout",
     "output_type": "stream",
     "text": [
      "Enter Fahrenheit Temperature:Hello\n",
      "Please enter a number\n"
     ]
    }
   ],
   "source": [
    "#using try and except\n",
    "inp = input('Enter Fahrenheit Temperature:')\n",
    "try:\n",
    "    fahr = float(inp)\n",
    "    cel = (fahr - 32.0) * 5.0 / 9.0\n",
    "    print(cel)\n",
    "except:\n",
    "    print('Please enter a number')"
   ]
  },
  {
   "cell_type": "code",
   "execution_count": null,
   "metadata": {
    "collapsed": true
   },
   "outputs": [],
   "source": [
    "#Q) Write a program to pay 1.5 times the hourly rate for \n",
    "# the hours worked above 40 hours\n",
    "#else pay based on hourly pay and hours worked\n",
    "#input hourly rate and hours worked and display pay"
   ]
  },
  {
   "cell_type": "code",
   "execution_count": null,
   "metadata": {
    "collapsed": true
   },
   "outputs": [],
   "source": [
    "# Q) Rewrite your pay program using try and except \n",
    "# so that your program handles non-numeric input gracefully \n",
    "# by printing a message and exiting the program. \n",
    "# The following shows two executions of the program:\n",
    "#Enter Hours: 20, Enter Rate: nine\n",
    "# Error, please enter numeric input"
   ]
  },
  {
   "cell_type": "code",
   "execution_count": null,
   "metadata": {
    "collapsed": true
   },
   "outputs": [],
   "source": [
    "# Write a program to prompt for a score between 0.0 and 1.0.\n",
    "# If the score is out of range, print an error message. \n",
    "# If the score is between 0.0 and 1.0, print a grade using the following table:\n",
    "#Score   Grade\n",
    "#>= 0.9     A\n",
    "#>= 0.8     B\n",
    "#>= 0.7     C\n",
    "#>= 0.6     D\n",
    "#< 0.6      F\n",
    "# print 'Bad score' if the score is not between 0.0 and 1.0 or if the \n",
    "#score is not numeric   value entered"
   ]
  },
  {
   "cell_type": "code",
   "execution_count": null,
   "metadata": {
    "collapsed": true
   },
   "outputs": [],
   "source": [
    "# Input 3 numbers, Write a program to find the largest of 3 numbers"
   ]
  }
 ],
 "metadata": {
  "kernelspec": {
   "display_name": "Python 3",
   "language": "python",
   "name": "python3"
  },
  "language_info": {
   "codemirror_mode": {
    "name": "ipython",
    "version": 3
   },
   "file_extension": ".py",
   "mimetype": "text/x-python",
   "name": "python",
   "nbconvert_exporter": "python",
   "pygments_lexer": "ipython3",
   "version": "3.8.3"
  }
 },
 "nbformat": 4,
 "nbformat_minor": 2
}
