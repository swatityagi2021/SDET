{
 "cells": [
  {
   "cell_type": "markdown",
   "metadata": {},
   "source": [
    "# Handling JSON files\n",
    "#### JSON (JavaScript Object Notation) is a popular data format used for representing structured data. It's common to transmit and receive data between a server and web application in JSON format.\n",
    "### In Python, JSON exists as a string. \n",
    "#JSON can store the following python objects: Lists; Dictionaries; Booleans; Numbers; Character strings; and None\n",
    "#import the json module. This the package required to access Java Script Object Notation files\n",
    "#This library mainly parses JSON from files or strings. It also parses JSON into a dictionary or list in Python and vice versa,"
   ]
  },
  {
   "cell_type": "code",
   "execution_count": null,
   "metadata": {},
   "outputs": [],
   "source": [
    "import json"
   ]
  },
  {
   "cell_type": "code",
   "execution_count": null,
   "metadata": {},
   "outputs": [],
   "source": [
    "#loads() method loads from a string\n",
    "rec='{\"name\":\"Kiran\",\"age\":23}'\n",
    "python_data=json.loads(rec)\n",
    "print(python_data)"
   ]
  },
  {
   "cell_type": "markdown",
   "metadata": {},
   "source": [
    "Converting Python dictionary to JSON. dumps() method is used to convert"
   ]
  },
  {
   "cell_type": "code",
   "execution_count": null,
   "metadata": {},
   "outputs": [],
   "source": [
    "dict1={'order_Id':100,'order_amt':5}\n",
    "json_data=json.dumps(dict1,indent=4,separators=('-','='))\n",
    "print(json_data)"
   ]
  },
  {
   "cell_type": "code",
   "execution_count": null,
   "metadata": {},
   "outputs": [],
   "source": [
    "# read json file\n",
    "with open('emp.json','r') as f_hand:\n",
    "    data=json.load(f_hand)\n",
    "print(data)\n",
    "print(type(data))\n"
   ]
  },
  {
   "cell_type": "markdown",
   "metadata": {},
   "source": [
    "###Python\tJSON Equivalent\n",
    "dict\t    object\n",
    "list,tuple\tarray\n",
    "str\t        string\n",
    "int, float  number\n",
    "True\t    true\n",
    "False\t    false\n",
    "None\t    null"
   ]
  },
  {
   "cell_type": "code",
   "execution_count": null,
   "metadata": {},
   "outputs": [],
   "source": [
    "dict1={'order_Id':100,'order_amt':5}\n",
    "with open(\"emp.json\",\"w\") as f_hand:\n",
    "    json.dump(dict1,f_hand,indent=4)"
   ]
  },
  {
   "cell_type": "code",
   "execution_count": null,
   "metadata": {},
   "outputs": [],
   "source": [
    "dict2={'order_Id':200,'order_amt':10}\n",
    "with open(\"emp.json\",\"a\") as f_hand:\n",
    "    json.dump(dict2,f_hand,indent=4)\n",
    "   "
   ]
  },
  {
   "cell_type": "code",
   "execution_count": null,
   "metadata": {},
   "outputs": [],
   "source": [
    "#this is nothing but a dictionary\n",
    "print(python_data['name'])"
   ]
  },
  {
   "cell_type": "markdown",
   "metadata": {},
   "source": [
    "# Python file handling\n",
    "### \"r\" - Read - Default value. Opens a file for reading, error if the file does not exist\n",
    "\n",
    "\"a\" - Append - Opens a file for appending, creates the file if it does not exist\n",
    "\n",
    "\"w\" - Write - Opens a file for writing, creates the file if it does not exist\n",
    "\n",
    "\"x\" - Create - Creates the specified file, returns an error if the file exists"
   ]
  },
  {
   "cell_type": "code",
   "execution_count": null,
   "metadata": {},
   "outputs": [],
   "source": [
    "'''\n",
    "string Functions\n",
    "1.startswith\n",
    "2.rstrip, lstrip, strip\n",
    "3. split based on a deminiter, space becomes the default delimiter\n",
    "'''"
   ]
  },
  {
   "cell_type": "code",
   "execution_count": 123,
   "metadata": {},
   "outputs": [],
   "source": [
    "with open(\"SampleFile.txt\",\"w\") as f_hand:\n",
    "    f_hand.write(\"This is the first line\\n\")\n",
    "f_hand.close()"
   ]
  },
  {
   "cell_type": "code",
   "execution_count": 125,
   "metadata": {},
   "outputs": [
    {
     "name": "stdout",
     "output_type": "stream",
     "text": [
      "This is the first lineThis is the second line\n"
     ]
    }
   ],
   "source": [
    "fhand=open('SampleFile.txt','r')\n",
    "print(fhand.read())\n",
    "fhand.close()"
   ]
  },
  {
   "cell_type": "code",
   "execution_count": 124,
   "metadata": {},
   "outputs": [],
   "source": [
    "with open(\"SampleFile.txt\",\"a\") as f_hand:\n",
    "    f_hand.write(\"This is the second line\\n\")\n",
    "f_hand.close()"
   ]
  },
  {
   "cell_type": "code",
   "execution_count": null,
   "metadata": {},
   "outputs": [],
   "source": [
    "#want to read sample one or two lines from the file\n",
    "fhand=open('SampleFile.txt','r')\n",
    "print(fhand.readline())\n",
    "fhand.close()"
   ]
  },
  {
   "cell_type": "code",
   "execution_count": null,
   "metadata": {},
   "outputs": [],
   "source": [
    "fhand = open('mbox.txt')\n",
    "maxread = 0\n",
    "for line in fhand: \n",
    "    if maxread == 30:\n",
    "        break\n",
    "    else:\n",
    "        print(line)\n",
    "        maxread = maxread+1 \n",
    "fhand.close()"
   ]
  },
  {
   "cell_type": "code",
   "execution_count": null,
   "metadata": {},
   "outputs": [],
   "source": [
    "#read(n), where n is no of bytes returned\n",
    "with open(\"SampleFile.txt\",\"r\") as f_hand:\n",
    "    op=f_hand.read(10)\n",
    "print(op)\n",
    "fhand.close()"
   ]
  },
  {
   "cell_type": "code",
   "execution_count": null,
   "metadata": {},
   "outputs": [],
   "source": [
    "# delete file\n",
    "import os\n",
    "os.remove(\"SampleFile.txt\")"
   ]
  },
  {
   "cell_type": "markdown",
   "metadata": {},
   "source": [
    "# file handling - Comma Separated Values format "
   ]
  },
  {
   "cell_type": "code",
   "execution_count": 93,
   "metadata": {},
   "outputs": [],
   "source": [
    "import csv"
   ]
  },
  {
   "cell_type": "code",
   "execution_count": 104,
   "metadata": {},
   "outputs": [
    {
     "name": "stdout",
     "output_type": "stream",
     "text": [
      "['Name', 'Age']\n",
      "['Kiran', '20']\n",
      "['Alan', '35']\n",
      "['Marshal', '45']\n"
     ]
    }
   ],
   "source": [
    "import csv\n",
    "with open('sample.csv', 'r') as file:\n",
    "    reader = csv.reader(file)\n",
    "    for row in reader:\n",
    "        print(row)"
   ]
  },
  {
   "cell_type": "code",
   "execution_count": 118,
   "metadata": {},
   "outputs": [
    {
     "name": "stdout",
     "output_type": "stream",
     "text": [
      "['SN\\tMovie\\tProtagonist']\n",
      "[]\n",
      "['1\\tLord of the Rings\\tFrodo Baggins']\n",
      "[]\n",
      "['2\\tHarry Potter\\tHarry Potter']\n",
      "[]\n"
     ]
    }
   ],
   "source": [
    "import csv\n",
    "with open('sample.csv', 'r') as file:\n",
    "    reader = csv.reader(file)\n",
    "    for row in reader:\n",
    "        print(row)"
   ]
  },
  {
   "cell_type": "code",
   "execution_count": 112,
   "metadata": {},
   "outputs": [],
   "source": [
    "#writing data to a csv file\n",
    "import csv\n",
    "with open('sample.csv', 'a',newline='') as file:\n",
    "    writer = csv.writer(file)\n",
    "    writer.writerow(['George',45])"
   ]
  },
  {
   "cell_type": "code",
   "execution_count": 121,
   "metadata": {},
   "outputs": [],
   "source": [
    "csv_rowlist = [[\"SN\", \"Movie\", \"Protagonist\"], [1, \"Lord of the Rings\", \"Frodo Baggins\"],\n",
    "               [2, \"Harry Potter\", \"Harry Potter\"]]\n",
    "with open('sample.csv', 'w') as file:\n",
    "    writer = csv.writer(file)\n",
    "    writer.writerows(csv_rowlist)"
   ]
  },
  {
   "cell_type": "code",
   "execution_count": 122,
   "metadata": {},
   "outputs": [
    {
     "name": "stdout",
     "output_type": "stream",
     "text": [
      "{'SN': '1', 'Movie': 'Lord of the Rings', 'Protagonist': 'Frodo Baggins'}\n",
      "{'SN': '2', 'Movie': 'Harry Potter', 'Protagonist': 'Harry Potter'}\n"
     ]
    }
   ],
   "source": [
    "with open(\"sample.csv\", 'r') as file:\n",
    "    csv_file = csv.DictReader(file)\n",
    "    for row in csv_file:\n",
    "        print(dict(row))"
   ]
  },
  {
   "cell_type": "code",
   "execution_count": null,
   "metadata": {},
   "outputs": [],
   "source": [
    "#File handling - XML files (eXtensible Marup Language)"
   ]
  },
  {
   "cell_type": "code",
   "execution_count": null,
   "metadata": {},
   "outputs": [],
   "source": [
    "# Find out All the distinct From email addresses\n",
    "# Find the count of distinct people who have sent an email\n",
    "#How many emails have been flagged as \"spam\" and how many as \"innocent\"\n",
    "#How many emails have been spammed as \"innocent\" with confidence level \n",
    "# less than 75%"
   ]
  },
  {
   "cell_type": "code",
   "execution_count": null,
   "metadata": {},
   "outputs": [],
   "source": [
    "line = 'From : abc@pqr'\n",
    "line = line.split(':')\n",
    "line[1].strip()"
   ]
  },
  {
   "cell_type": "code",
   "execution_count": null,
   "metadata": {},
   "outputs": [],
   "source": [
    "# Find out All the distinct From email addresses\n",
    "# Find the count of distinct people who have sent an email\n",
    "\n",
    "fhand = open('mbox.txt')\n",
    "fromEmail = []\n",
    "count = 0\n",
    "for line in fhand:\n",
    "    line=line.strip()\n",
    "    if line.startswith('From:'):\n",
    "        line = line.split(':')\n",
    "        line[1] = line[1].strip()\n",
    "        if line[1] not in fromEmail:\n",
    "            fromEmail.append(line[1])\n",
    "            count = count+1\n",
    "print(fromEmail)\n",
    "print(count, \"distinct From Addresses\")"
   ]
  },
  {
   "cell_type": "code",
   "execution_count": null,
   "metadata": {},
   "outputs": [],
   "source": [
    "# Find out All the distinct From email addresses\n",
    "# Find the count of distinct people who have sent an email\n",
    "fhand = open('mbox.txt')\n",
    "fromEmail = []\n",
    "count = 0\n",
    "for line in fhand:\n",
    "    line=line.strip()\n",
    "    if line.startswith('From'):\n",
    "        line = line.split(' ')\n",
    "        line[1] = line[1].strip()\n",
    "        if line[1] not in fromEmail:\n",
    "            fromEmail.append(line[1])\n",
    "            count = count+1\n",
    "print(fromEmail)\n",
    "print(count, \"distinct From Addresses\")"
   ]
  },
  {
   "cell_type": "code",
   "execution_count": null,
   "metadata": {},
   "outputs": [],
   "source": [
    "#How many emails have been flagged as \"spam\" and how many as \"innocent\"\n",
    "fhand = open('mbox.txt')\n",
    "countSpam = 0\n",
    "countInnocent = 0\n",
    "for line in fhand:\n",
    "    line=line.strip()\n",
    "    if line.startswith('X-DSPAM-Result:'):\n",
    "        line = line.split(':')\n",
    "        line[1] = line[1].strip()\n",
    "        if line[1].lower() == \"spam\":\n",
    "            countSpam = countSpam+1\n",
    "        elif line[1].lower() == \"innocent\":\n",
    "                countInnocent = countInnocent + 1\n",
    "print(countSpam, \" spam from addresses\")\n",
    "print(countInnocent, \" non Spam from Addresses\")"
   ]
  },
  {
   "cell_type": "code",
   "execution_count": null,
   "metadata": {},
   "outputs": [],
   "source": [
    "#How many emails have been marked as \"innocent\" with confidence level \n",
    "# less than 75%\n",
    "fhand = open('mbox.txt')\n",
    "countInvalid = 0\n",
    "for line in fhand:\n",
    "    line=line.strip()\n",
    "    if line.startswith('X-DSPAM-Result:'):\n",
    "        line1 = line.split(':')\n",
    "        spamResult = line1[1].strip().lower()\n",
    "    elif line.startswith('X-DSPAM-Confidence:'):\n",
    "        line1 = line.split(':')  \n",
    "        \n",
    "        confidenceValue = round(float(line1[1].strip()),2)\n",
    "        if spamResult == \"innocent\" and confidenceValue < 0.75:\n",
    "            countInvalid = countInvalid+1\n",
    "print(countInvalid, \" Innocent emails with lower confidence values\")"
   ]
  },
  {
   "cell_type": "code",
   "execution_count": null,
   "metadata": {},
   "outputs": [],
   "source": [
    "#Find the distinct Recipients of the email, \n",
    "# and how many email has every recipient received"
   ]
  }
 ],
 "metadata": {
  "kernelspec": {
   "display_name": "Python 3",
   "language": "python",
   "name": "python3"
  },
  "language_info": {
   "codemirror_mode": {
    "name": "ipython",
    "version": 3
   },
   "file_extension": ".py",
   "mimetype": "text/x-python",
   "name": "python",
   "nbconvert_exporter": "python",
   "pygments_lexer": "ipython3",
   "version": "3.8.3"
  }
 },
 "nbformat": 4,
 "nbformat_minor": 2
}
