{
 "cells": [
  {
   "cell_type": "markdown",
   "metadata": {},
   "source": [
    "# Compressing a folder to .zi"
   ]
  },
  {
   "cell_type": "markdown",
   "metadata": {},
   "source": [
    "root :\tPrints out directories only from what you specified\n",
    "dirs :\tPrints out sub-directories from root. \n",
    "files:  Prints out all files from root and directories"
   ]
  },
  {
   "cell_type": "code",
   "execution_count": 31,
   "metadata": {},
   "outputs": [
    {
     "name": "stdout",
     "output_type": "stream",
     "text": [
      "D:\\OneDrive - Manipal Global Education Services Pvt Ltd\\mait\\Data Science\\Python\\python programs\\Python demo pgms\\Final Demos/zipme \n",
      "\n",
      "rt\n",
      "abc\n",
      "emp.json\n",
      "geckodriver.log\n",
      "SampleFile.txt\n",
      "rt\n"
     ]
    }
   ],
   "source": [
    "import os\n",
    "\n",
    "def zipdir():\n",
    "    path=os.getcwd()+\"/zipme\"#gets name of current path and then appends folder name zipme to it\n",
    "    print(path,'\\n')\n",
    "    \n",
    "    for root, dirs, files in os.walk(path):#os.walk return the root directory name, files in that \n",
    "        print(\"rt\")\n",
    "        for i in dirs:\n",
    "            print(i)\n",
    "        for i in files:\n",
    "            print(i)\n",
    "        \n",
    "\n",
    "zipdir()"
   ]
  },
  {
   "cell_type": "markdown",
   "metadata": {},
   "source": [
    "os.path.join () method in Python join one or more path components intelligently. \n",
    "This method concatenates various path components with exactly one directory separator (‘/’) following each non-empty part except the last path component. \n",
    "If the last path component to be joined is empty then a directory seperator (‘/’) is put at the end."
   ]
  },
  {
   "cell_type": "code",
   "execution_count": 43,
   "metadata": {},
   "outputs": [
    {
     "name": "stdout",
     "output_type": "stream",
     "text": [
      "emp.json\n",
      "geckodriver.log\n",
      "SampleFile.txt\n"
     ]
    }
   ],
   "source": [
    "import os\n",
    "from zipfile import ZipFile\n",
    "\n",
    "z=ZipFile('Python.zip','w')#name of zip file you want to create and 'w' to write to it\n",
    "\n",
    "def zipdir():\n",
    "    path=os.getcwd()+\"/zipme\"#gets name of current path and then appends folder name zipme to it\n",
    "    for root, dirs, files in os.walk(path):#os.walk return the root directory name, files in that \n",
    "        for f in files:\n",
    "            print(f)            \n",
    "            z.write(f)\n",
    "            \n",
    "            '''fp=os.path.join(root,f)\n",
    "            print(os.path.basename(fp))\n",
    "            z.write(fp,os.path.basename(fp))'''\n",
    "    z.close()\n",
    "\n",
    "zipdir()"
   ]
  },
  {
   "cell_type": "code",
   "execution_count": null,
   "metadata": {},
   "outputs": [],
   "source": [
    "import os\n",
    "from zipfile import ZipFile\n",
    "\n",
    "z=ZipFile('Python.zip','w')#name of zip file you want to create and 'w' to write to it\n",
    "\n",
    "def zipdir():\n",
    "    path=os.getcwd()+\"/zipme\"#gets name of current path and then appends folder name zipme to it\n",
    "    for root, dirs, files in os.walk(path):#os.walk return the root directory name, files in that \n",
    "        for f in files:\n",
    "            print(f)            \n",
    "            z.write(f)\n",
    "            \n",
    "            '''fp=os.path.join(root,f)\n",
    "            print(os.path.basename(fp))\n",
    "            z.write(fp,os.path.basename(fp))'''\n",
    "    z.close()\n",
    "\n",
    "zipdir()"
   ]
  }
 ],
 "metadata": {
  "kernelspec": {
   "display_name": "Python 3",
   "language": "python",
   "name": "python3"
  },
  "language_info": {
   "codemirror_mode": {
    "name": "ipython",
    "version": 3
   },
   "file_extension": ".py",
   "mimetype": "text/x-python",
   "name": "python",
   "nbconvert_exporter": "python",
   "pygments_lexer": "ipython3",
   "version": "3.8.3"
  }
 },
 "nbformat": 4,
 "nbformat_minor": 4
}
